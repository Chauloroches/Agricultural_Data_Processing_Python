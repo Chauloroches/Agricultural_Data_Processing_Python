{
 "cells": [
  {
   "cell_type": "markdown",
   "id": "86ded57b-f19b-4f34-84a4-ad80725c0c95",
   "metadata": {},
   "source": [
    "# Agriculture Data Processing Project"
   ]
  },
  {
   "cell_type": "code",
   "execution_count": 5,
   "id": "1734b6fb-4c5e-48c6-b7f2-fdd8526c306c",
   "metadata": {},
   "outputs": [],
   "source": [
    "import pandas\n",
    "import seaborn as sn\n",
    "import matplotlib.pyplot as plt"
   ]
  },
  {
   "cell_type": "code",
   "execution_count": 23,
   "id": "9696c6c7-9f60-4504-be76-3df4b5b1ebbd",
   "metadata": {},
   "outputs": [
    {
     "data": {
      "application/javascript": [
       "\n",
       "        if (window._pyforest_update_imports_cell) { window._pyforest_update_imports_cell('import pandas as pd'); }\n",
       "    "
      ],
      "text/plain": [
       "<IPython.core.display.Javascript object>"
      ]
     },
     "metadata": {},
     "output_type": "display_data"
    },
    {
     "data": {
      "application/javascript": [
       "\n",
       "        if (window._pyforest_update_imports_cell) { window._pyforest_update_imports_cell('import pandas as pd'); }\n",
       "    "
      ],
      "text/plain": [
       "<IPython.core.display.Javascript object>"
      ]
     },
     "metadata": {},
     "output_type": "display_data"
    },
    {
     "data": {
      "text/html": [
       "<div>\n",
       "<style scoped>\n",
       "    .dataframe tbody tr th:only-of-type {\n",
       "        vertical-align: middle;\n",
       "    }\n",
       "\n",
       "    .dataframe tbody tr th {\n",
       "        vertical-align: top;\n",
       "    }\n",
       "\n",
       "    .dataframe thead th {\n",
       "        text-align: right;\n",
       "    }\n",
       "</style>\n",
       "<table border=\"1\" class=\"dataframe\">\n",
       "  <thead>\n",
       "    <tr style=\"text-align: right;\">\n",
       "      <th></th>\n",
       "      <th>Crop</th>\n",
       "      <th>Region</th>\n",
       "      <th>Year</th>\n",
       "      <th>Month</th>\n",
       "      <th>Sales_Volume</th>\n",
       "      <th>Revenue</th>\n",
       "    </tr>\n",
       "  </thead>\n",
       "  <tbody>\n",
       "    <tr>\n",
       "      <th>0</th>\n",
       "      <td>Maize</td>\n",
       "      <td>West</td>\n",
       "      <td>2016</td>\n",
       "      <td>6</td>\n",
       "      <td>1950.59</td>\n",
       "      <td>94093.03</td>\n",
       "    </tr>\n",
       "    <tr>\n",
       "      <th>1</th>\n",
       "      <td>Potato</td>\n",
       "      <td>Central</td>\n",
       "      <td>2015</td>\n",
       "      <td>10</td>\n",
       "      <td>4144.44</td>\n",
       "      <td>93301.17</td>\n",
       "    </tr>\n",
       "    <tr>\n",
       "      <th>2</th>\n",
       "      <td>Rice</td>\n",
       "      <td>West</td>\n",
       "      <td>2020</td>\n",
       "      <td>12</td>\n",
       "      <td>1645.88</td>\n",
       "      <td>50575.54</td>\n",
       "    </tr>\n",
       "    <tr>\n",
       "      <th>3</th>\n",
       "      <td>Rice</td>\n",
       "      <td>East</td>\n",
       "      <td>2019</td>\n",
       "      <td>9</td>\n",
       "      <td>3566.76</td>\n",
       "      <td>20191.42</td>\n",
       "    </tr>\n",
       "    <tr>\n",
       "      <th>4</th>\n",
       "      <td>Maize</td>\n",
       "      <td>East</td>\n",
       "      <td>2023</td>\n",
       "      <td>1</td>\n",
       "      <td>3921.03</td>\n",
       "      <td>98635.71</td>\n",
       "    </tr>\n",
       "    <tr>\n",
       "      <th>...</th>\n",
       "      <td>...</td>\n",
       "      <td>...</td>\n",
       "      <td>...</td>\n",
       "      <td>...</td>\n",
       "      <td>...</td>\n",
       "      <td>...</td>\n",
       "    </tr>\n",
       "    <tr>\n",
       "      <th>95</th>\n",
       "      <td>Potato</td>\n",
       "      <td>West</td>\n",
       "      <td>2019</td>\n",
       "      <td>5</td>\n",
       "      <td>1186.43</td>\n",
       "      <td>12387.90</td>\n",
       "    </tr>\n",
       "    <tr>\n",
       "      <th>96</th>\n",
       "      <td>Potato</td>\n",
       "      <td>South</td>\n",
       "      <td>2021</td>\n",
       "      <td>7</td>\n",
       "      <td>3093.30</td>\n",
       "      <td>26329.19</td>\n",
       "    </tr>\n",
       "    <tr>\n",
       "      <th>97</th>\n",
       "      <td>Potato</td>\n",
       "      <td>South</td>\n",
       "      <td>2023</td>\n",
       "      <td>10</td>\n",
       "      <td>3230.22</td>\n",
       "      <td>62473.74</td>\n",
       "    </tr>\n",
       "    <tr>\n",
       "      <th>98</th>\n",
       "      <td>Potato</td>\n",
       "      <td>South</td>\n",
       "      <td>2015</td>\n",
       "      <td>12</td>\n",
       "      <td>2408.59</td>\n",
       "      <td>47928.21</td>\n",
       "    </tr>\n",
       "    <tr>\n",
       "      <th>99</th>\n",
       "      <td>Rice</td>\n",
       "      <td>East</td>\n",
       "      <td>2021</td>\n",
       "      <td>2</td>\n",
       "      <td>3814.00</td>\n",
       "      <td>90340.45</td>\n",
       "    </tr>\n",
       "  </tbody>\n",
       "</table>\n",
       "<p>100 rows × 6 columns</p>\n",
       "</div>"
      ],
      "text/plain": [
       "      Crop   Region  Year  Month  Sales_Volume   Revenue\n",
       "0    Maize     West  2016      6       1950.59  94093.03\n",
       "1   Potato  Central  2015     10       4144.44  93301.17\n",
       "2     Rice     West  2020     12       1645.88  50575.54\n",
       "3     Rice     East  2019      9       3566.76  20191.42\n",
       "4    Maize     East  2023      1       3921.03  98635.71\n",
       "..     ...      ...   ...    ...           ...       ...\n",
       "95  Potato     West  2019      5       1186.43  12387.90\n",
       "96  Potato    South  2021      7       3093.30  26329.19\n",
       "97  Potato    South  2023     10       3230.22  62473.74\n",
       "98  Potato    South  2015     12       2408.59  47928.21\n",
       "99    Rice     East  2021      2       3814.00  90340.45\n",
       "\n",
       "[100 rows x 6 columns]"
      ]
     },
     "execution_count": 23,
     "metadata": {},
     "output_type": "execute_result"
    }
   ],
   "source": [
    "# Import the datasets\n",
    "production = pd.read_csv('Crop_Production.csv')\n",
    "sales = pd.read_csv('Sales_Data.csv')\n",
    "production\n",
    "sales"
   ]
  },
  {
   "cell_type": "code",
   "execution_count": 25,
   "id": "45d37d5b-c485-475d-9576-4bf5682179bb",
   "metadata": {},
   "outputs": [
    {
     "data": {
      "text/html": [
       "<div>\n",
       "<style scoped>\n",
       "    .dataframe tbody tr th:only-of-type {\n",
       "        vertical-align: middle;\n",
       "    }\n",
       "\n",
       "    .dataframe tbody tr th {\n",
       "        vertical-align: top;\n",
       "    }\n",
       "\n",
       "    .dataframe thead th {\n",
       "        text-align: right;\n",
       "    }\n",
       "</style>\n",
       "<table border=\"1\" class=\"dataframe\">\n",
       "  <thead>\n",
       "    <tr style=\"text-align: right;\">\n",
       "      <th></th>\n",
       "      <th>Crop</th>\n",
       "      <th>Region</th>\n",
       "      <th>Season</th>\n",
       "      <th>Year</th>\n",
       "      <th>Yield_per_Hectare</th>\n",
       "    </tr>\n",
       "  </thead>\n",
       "  <tbody>\n",
       "    <tr>\n",
       "      <th>0</th>\n",
       "      <td>Soybean</td>\n",
       "      <td>West</td>\n",
       "      <td>Summer</td>\n",
       "      <td>2017</td>\n",
       "      <td>7.28</td>\n",
       "    </tr>\n",
       "    <tr>\n",
       "      <th>1</th>\n",
       "      <td>Potato</td>\n",
       "      <td>North</td>\n",
       "      <td>Summer</td>\n",
       "      <td>2023</td>\n",
       "      <td>7.95</td>\n",
       "    </tr>\n",
       "    <tr>\n",
       "      <th>2</th>\n",
       "      <td>Rice</td>\n",
       "      <td>West</td>\n",
       "      <td>Summer</td>\n",
       "      <td>2018</td>\n",
       "      <td>9.82</td>\n",
       "    </tr>\n",
       "    <tr>\n",
       "      <th>3</th>\n",
       "      <td>Potato</td>\n",
       "      <td>South</td>\n",
       "      <td>Fall</td>\n",
       "      <td>2015</td>\n",
       "      <td>6.37</td>\n",
       "    </tr>\n",
       "    <tr>\n",
       "      <th>4</th>\n",
       "      <td>Potato</td>\n",
       "      <td>North</td>\n",
       "      <td>Fall</td>\n",
       "      <td>2018</td>\n",
       "      <td>4.92</td>\n",
       "    </tr>\n",
       "    <tr>\n",
       "      <th>...</th>\n",
       "      <td>...</td>\n",
       "      <td>...</td>\n",
       "      <td>...</td>\n",
       "      <td>...</td>\n",
       "      <td>...</td>\n",
       "    </tr>\n",
       "    <tr>\n",
       "      <th>95</th>\n",
       "      <td>Rice</td>\n",
       "      <td>East</td>\n",
       "      <td>Winter</td>\n",
       "      <td>2021</td>\n",
       "      <td>8.13</td>\n",
       "    </tr>\n",
       "    <tr>\n",
       "      <th>96</th>\n",
       "      <td>Potato</td>\n",
       "      <td>East</td>\n",
       "      <td>Summer</td>\n",
       "      <td>2018</td>\n",
       "      <td>8.16</td>\n",
       "    </tr>\n",
       "    <tr>\n",
       "      <th>97</th>\n",
       "      <td>Wheat</td>\n",
       "      <td>North</td>\n",
       "      <td>Summer</td>\n",
       "      <td>2020</td>\n",
       "      <td>3.27</td>\n",
       "    </tr>\n",
       "    <tr>\n",
       "      <th>98</th>\n",
       "      <td>Wheat</td>\n",
       "      <td>Central</td>\n",
       "      <td>Summer</td>\n",
       "      <td>2018</td>\n",
       "      <td>9.27</td>\n",
       "    </tr>\n",
       "    <tr>\n",
       "      <th>99</th>\n",
       "      <td>Maize</td>\n",
       "      <td>West</td>\n",
       "      <td>Summer</td>\n",
       "      <td>2017</td>\n",
       "      <td>6.29</td>\n",
       "    </tr>\n",
       "  </tbody>\n",
       "</table>\n",
       "<p>100 rows × 5 columns</p>\n",
       "</div>"
      ],
      "text/plain": [
       "       Crop   Region  Season  Year  Yield_per_Hectare\n",
       "0   Soybean     West  Summer  2017               7.28\n",
       "1    Potato    North  Summer  2023               7.95\n",
       "2      Rice     West  Summer  2018               9.82\n",
       "3    Potato    South    Fall  2015               6.37\n",
       "4    Potato    North    Fall  2018               4.92\n",
       "..      ...      ...     ...   ...                ...\n",
       "95     Rice     East  Winter  2021               8.13\n",
       "96   Potato     East  Summer  2018               8.16\n",
       "97    Wheat    North  Summer  2020               3.27\n",
       "98    Wheat  Central  Summer  2018               9.27\n",
       "99    Maize     West  Summer  2017               6.29\n",
       "\n",
       "[100 rows x 5 columns]"
      ]
     },
     "execution_count": 25,
     "metadata": {},
     "output_type": "execute_result"
    }
   ],
   "source": [
    "production"
   ]
  },
  {
   "cell_type": "markdown",
   "id": "6e84bee1-bdf7-47ba-b7d5-1f35b64c09cf",
   "metadata": {},
   "source": [
    "#### Cleaning Data"
   ]
  },
  {
   "cell_type": "code",
   "execution_count": 35,
   "id": "87284d72-890f-4bdc-ac6a-143a8b61c03f",
   "metadata": {},
   "outputs": [
    {
     "name": "stdout",
     "output_type": "stream",
     "text": [
      "<class 'pandas.core.frame.DataFrame'>\n",
      "RangeIndex: 100 entries, 0 to 99\n",
      "Data columns (total 6 columns):\n",
      " #   Column        Non-Null Count  Dtype  \n",
      "---  ------        --------------  -----  \n",
      " 0   Crop          100 non-null    object \n",
      " 1   Region        100 non-null    object \n",
      " 2   Year          100 non-null    int64  \n",
      " 3   Month         100 non-null    int64  \n",
      " 4   Sales_Volume  100 non-null    float64\n",
      " 5   Revenue       100 non-null    float64\n",
      "dtypes: float64(2), int64(2), object(2)\n",
      "memory usage: 4.8+ KB\n"
     ]
    }
   ],
   "source": [
    "# Provide summary detail of a sales and production\n",
    "sales.info()\n",
    "production.info()"
   ]
  },
  {
   "cell_type": "code",
   "execution_count": 158,
   "id": "f1dd19af-eaf2-43c7-b9fa-6ffe0c012ff3",
   "metadata": {},
   "outputs": [
    {
     "data": {
      "text/html": [
       "<div>\n",
       "<style scoped>\n",
       "    .dataframe tbody tr th:only-of-type {\n",
       "        vertical-align: middle;\n",
       "    }\n",
       "\n",
       "    .dataframe tbody tr th {\n",
       "        vertical-align: top;\n",
       "    }\n",
       "\n",
       "    .dataframe thead th {\n",
       "        text-align: right;\n",
       "    }\n",
       "</style>\n",
       "<table border=\"1\" class=\"dataframe\">\n",
       "  <thead>\n",
       "    <tr style=\"text-align: right;\">\n",
       "      <th></th>\n",
       "      <th>Year</th>\n",
       "      <th>Yield_per_Hectare</th>\n",
       "    </tr>\n",
       "  </thead>\n",
       "  <tbody>\n",
       "    <tr>\n",
       "      <th>count</th>\n",
       "      <td>100.000000</td>\n",
       "      <td>100.000000</td>\n",
       "    </tr>\n",
       "    <tr>\n",
       "      <th>mean</th>\n",
       "      <td>2018.670000</td>\n",
       "      <td>6.212800</td>\n",
       "    </tr>\n",
       "    <tr>\n",
       "      <th>std</th>\n",
       "      <td>2.542785</td>\n",
       "      <td>2.216268</td>\n",
       "    </tr>\n",
       "    <tr>\n",
       "      <th>min</th>\n",
       "      <td>2015.000000</td>\n",
       "      <td>2.610000</td>\n",
       "    </tr>\n",
       "    <tr>\n",
       "      <th>25%</th>\n",
       "      <td>2017.000000</td>\n",
       "      <td>4.375000</td>\n",
       "    </tr>\n",
       "    <tr>\n",
       "      <th>50%</th>\n",
       "      <td>2019.000000</td>\n",
       "      <td>6.280000</td>\n",
       "    </tr>\n",
       "    <tr>\n",
       "      <th>75%</th>\n",
       "      <td>2021.000000</td>\n",
       "      <td>8.055000</td>\n",
       "    </tr>\n",
       "    <tr>\n",
       "      <th>max</th>\n",
       "      <td>2023.000000</td>\n",
       "      <td>9.930000</td>\n",
       "    </tr>\n",
       "  </tbody>\n",
       "</table>\n",
       "</div>"
      ],
      "text/plain": [
       "              Year  Yield_per_Hectare\n",
       "count   100.000000         100.000000\n",
       "mean   2018.670000           6.212800\n",
       "std       2.542785           2.216268\n",
       "min    2015.000000           2.610000\n",
       "25%    2017.000000           4.375000\n",
       "50%    2019.000000           6.280000\n",
       "75%    2021.000000           8.055000\n",
       "max    2023.000000           9.930000"
      ]
     },
     "execution_count": 158,
     "metadata": {},
     "output_type": "execute_result"
    }
   ],
   "source": [
    "# To check for quick statistics in our dataframes in the numerical columns\n",
    "sales.describe()\n",
    "production.describe()"
   ]
  },
  {
   "cell_type": "code",
   "execution_count": 55,
   "id": "bd909856-0d9e-45d0-8545-251c21681824",
   "metadata": {},
   "outputs": [
    {
     "data": {
      "text/plain": [
       "Crop                 0\n",
       "Region               0\n",
       "Season               0\n",
       "Year                 0\n",
       "Yield_per_Hectare    0\n",
       "dtype: int64"
      ]
     },
     "execution_count": 55,
     "metadata": {},
     "output_type": "execute_result"
    }
   ],
   "source": [
    "# Check for missing values values in sales and production\n",
    "sales.isnull().sum()\n",
    "production.isnull().sum()"
   ]
  },
  {
   "cell_type": "code",
   "execution_count": 83,
   "id": "58c05784-a0dd-4961-a77d-01790965450f",
   "metadata": {},
   "outputs": [
    {
     "data": {
      "text/plain": [
       "0     False\n",
       "1     False\n",
       "2     False\n",
       "3     False\n",
       "4     False\n",
       "      ...  \n",
       "95    False\n",
       "96    False\n",
       "97    False\n",
       "98    False\n",
       "99    False\n",
       "Length: 100, dtype: bool"
      ]
     },
     "execution_count": 83,
     "metadata": {},
     "output_type": "execute_result"
    }
   ],
   "source": [
    "# Check for duplicates in both dataframes\n",
    "sales.duplicated()\n",
    "production.duplicated()"
   ]
  },
  {
   "cell_type": "code",
   "execution_count": 81,
   "id": "5b72a7ff-6fa0-460d-92ef-6a33a834f03f",
   "metadata": {},
   "outputs": [
    {
     "data": {
      "text/html": [
       "<div>\n",
       "<style scoped>\n",
       "    .dataframe tbody tr th:only-of-type {\n",
       "        vertical-align: middle;\n",
       "    }\n",
       "\n",
       "    .dataframe tbody tr th {\n",
       "        vertical-align: top;\n",
       "    }\n",
       "\n",
       "    .dataframe thead th {\n",
       "        text-align: right;\n",
       "    }\n",
       "</style>\n",
       "<table border=\"1\" class=\"dataframe\">\n",
       "  <thead>\n",
       "    <tr style=\"text-align: right;\">\n",
       "      <th></th>\n",
       "      <th>Crop</th>\n",
       "      <th>Region</th>\n",
       "      <th>Season</th>\n",
       "      <th>Year</th>\n",
       "      <th>Yield_per_Hectare</th>\n",
       "    </tr>\n",
       "  </thead>\n",
       "  <tbody>\n",
       "    <tr>\n",
       "      <th>0</th>\n",
       "      <td>Soybean</td>\n",
       "      <td>West</td>\n",
       "      <td>Summer</td>\n",
       "      <td>2017</td>\n",
       "      <td>7.28</td>\n",
       "    </tr>\n",
       "    <tr>\n",
       "      <th>1</th>\n",
       "      <td>Potato</td>\n",
       "      <td>North</td>\n",
       "      <td>Summer</td>\n",
       "      <td>2023</td>\n",
       "      <td>7.95</td>\n",
       "    </tr>\n",
       "    <tr>\n",
       "      <th>2</th>\n",
       "      <td>Rice</td>\n",
       "      <td>West</td>\n",
       "      <td>Summer</td>\n",
       "      <td>2018</td>\n",
       "      <td>9.82</td>\n",
       "    </tr>\n",
       "    <tr>\n",
       "      <th>3</th>\n",
       "      <td>Potato</td>\n",
       "      <td>South</td>\n",
       "      <td>Fall</td>\n",
       "      <td>2015</td>\n",
       "      <td>6.37</td>\n",
       "    </tr>\n",
       "    <tr>\n",
       "      <th>4</th>\n",
       "      <td>Potato</td>\n",
       "      <td>North</td>\n",
       "      <td>Fall</td>\n",
       "      <td>2018</td>\n",
       "      <td>4.92</td>\n",
       "    </tr>\n",
       "    <tr>\n",
       "      <th>...</th>\n",
       "      <td>...</td>\n",
       "      <td>...</td>\n",
       "      <td>...</td>\n",
       "      <td>...</td>\n",
       "      <td>...</td>\n",
       "    </tr>\n",
       "    <tr>\n",
       "      <th>95</th>\n",
       "      <td>Rice</td>\n",
       "      <td>East</td>\n",
       "      <td>Winter</td>\n",
       "      <td>2021</td>\n",
       "      <td>8.13</td>\n",
       "    </tr>\n",
       "    <tr>\n",
       "      <th>96</th>\n",
       "      <td>Potato</td>\n",
       "      <td>East</td>\n",
       "      <td>Summer</td>\n",
       "      <td>2018</td>\n",
       "      <td>8.16</td>\n",
       "    </tr>\n",
       "    <tr>\n",
       "      <th>97</th>\n",
       "      <td>Wheat</td>\n",
       "      <td>North</td>\n",
       "      <td>Summer</td>\n",
       "      <td>2020</td>\n",
       "      <td>3.27</td>\n",
       "    </tr>\n",
       "    <tr>\n",
       "      <th>98</th>\n",
       "      <td>Wheat</td>\n",
       "      <td>Central</td>\n",
       "      <td>Summer</td>\n",
       "      <td>2018</td>\n",
       "      <td>9.27</td>\n",
       "    </tr>\n",
       "    <tr>\n",
       "      <th>99</th>\n",
       "      <td>Maize</td>\n",
       "      <td>West</td>\n",
       "      <td>Summer</td>\n",
       "      <td>2017</td>\n",
       "      <td>6.29</td>\n",
       "    </tr>\n",
       "  </tbody>\n",
       "</table>\n",
       "<p>100 rows × 5 columns</p>\n",
       "</div>"
      ],
      "text/plain": [
       "       Crop   Region  Season  Year  Yield_per_Hectare\n",
       "0   Soybean     West  Summer  2017               7.28\n",
       "1    Potato    North  Summer  2023               7.95\n",
       "2      Rice     West  Summer  2018               9.82\n",
       "3    Potato    South    Fall  2015               6.37\n",
       "4    Potato    North    Fall  2018               4.92\n",
       "..      ...      ...     ...   ...                ...\n",
       "95     Rice     East  Winter  2021               8.13\n",
       "96   Potato     East  Summer  2018               8.16\n",
       "97    Wheat    North  Summer  2020               3.27\n",
       "98    Wheat  Central  Summer  2018               9.27\n",
       "99    Maize     West  Summer  2017               6.29\n",
       "\n",
       "[100 rows x 5 columns]"
      ]
     },
     "execution_count": 81,
     "metadata": {},
     "output_type": "execute_result"
    }
   ],
   "source": [
    "# We don't have duplicates but still remove \n",
    "# Remove duplicates\n",
    "remove_sales_duplicates = sales.drop_duplicates()\n",
    "remove_production_duplicates = production.drop_duplicates()\n",
    "remove_production_duplicates\n",
    "remove_sales_duplicates"
   ]
  },
  {
   "cell_type": "markdown",
   "id": "20c41a65-bf91-4a37-a038-026ead05870f",
   "metadata": {},
   "source": [
    "#### Exploratory Data Analysis (EDA)"
   ]
  },
  {
   "cell_type": "code",
   "execution_count": 102,
   "id": "aeb69bb6-9aec-40fa-a09b-33d506e587f3",
   "metadata": {},
   "outputs": [
    {
     "data": {
      "text/plain": [
       "Crop\n",
       "Maize      6.926667\n",
       "Rice       6.465000\n",
       "Wheat      6.223333\n",
       "Potato     5.975263\n",
       "Soybean    5.728462\n",
       "Name: Yield_per_Hectare, dtype: float64"
      ]
     },
     "execution_count": 102,
     "metadata": {},
     "output_type": "execute_result"
    }
   ],
   "source": [
    "# Top crops by yield\n",
    "# We group the crop column, find the the mean using the Yield_per_Hectare column, and sort the yield_per_heactare in descending manner\n",
    "top_crops = production.groupby(\"Crop\")[\"Yield_per_Hectare\"].mean().sort_values(ascending=False)\n",
    "top_crops"
   ]
  },
  {
   "cell_type": "code",
   "execution_count": 112,
   "id": "3f2db774-cd1f-4683-910d-bc72eefc24a8",
   "metadata": {},
   "outputs": [
    {
     "data": {
      "text/plain": [
       "Month\n",
       "1     25599.39\n",
       "2     28865.20\n",
       "3     25730.83\n",
       "4     31217.79\n",
       "5     24176.03\n",
       "6     37278.74\n",
       "7     15679.70\n",
       "8     24220.42\n",
       "9     19005.33\n",
       "10    30657.48\n",
       "11    16297.08\n",
       "12    12877.81\n",
       "Name: Sales_Volume, dtype: float64"
      ]
     },
     "execution_count": 112,
     "metadata": {},
     "output_type": "execute_result"
    }
   ],
   "source": [
    "# Monthly trends in sales volume\n",
    "# Grouping the month column and aggregating the sales_volume column using SUM()\n",
    "monthly_sales = sales.groupby(\"Month\")[\"Sales_Volume\"].sum()\n",
    "monthly_sales"
   ]
  },
  {
   "cell_type": "code",
   "execution_count": 234,
   "id": "61c97462-5f55-436d-a9c1-8fafb1319d3a",
   "metadata": {},
   "outputs": [
    {
     "data": {
      "text/html": [
       "<div>\n",
       "<style scoped>\n",
       "    .dataframe tbody tr th:only-of-type {\n",
       "        vertical-align: middle;\n",
       "    }\n",
       "\n",
       "    .dataframe tbody tr th {\n",
       "        vertical-align: top;\n",
       "    }\n",
       "\n",
       "    .dataframe thead th {\n",
       "        text-align: right;\n",
       "    }\n",
       "</style>\n",
       "<table border=\"1\" class=\"dataframe\">\n",
       "  <thead>\n",
       "    <tr style=\"text-align: right;\">\n",
       "      <th>Crop</th>\n",
       "      <th>Maize</th>\n",
       "      <th>Potato</th>\n",
       "      <th>Rice</th>\n",
       "      <th>Soybean</th>\n",
       "      <th>Wheat</th>\n",
       "    </tr>\n",
       "    <tr>\n",
       "      <th>Season</th>\n",
       "      <th></th>\n",
       "      <th></th>\n",
       "      <th></th>\n",
       "      <th></th>\n",
       "      <th></th>\n",
       "    </tr>\n",
       "  </thead>\n",
       "  <tbody>\n",
       "    <tr>\n",
       "      <th>Fall</th>\n",
       "      <td>6.490</td>\n",
       "      <td>6.12000</td>\n",
       "      <td>3.795</td>\n",
       "      <td>6.09875</td>\n",
       "      <td>7.3625</td>\n",
       "    </tr>\n",
       "    <tr>\n",
       "      <th>Spring</th>\n",
       "      <td>5.330</td>\n",
       "      <td>7.57000</td>\n",
       "      <td>7.085</td>\n",
       "      <td>5.69500</td>\n",
       "      <td>4.7450</td>\n",
       "    </tr>\n",
       "    <tr>\n",
       "      <th>Summer</th>\n",
       "      <td>7.806</td>\n",
       "      <td>5.85000</td>\n",
       "      <td>7.960</td>\n",
       "      <td>6.94750</td>\n",
       "      <td>5.4480</td>\n",
       "    </tr>\n",
       "    <tr>\n",
       "      <th>Winter</th>\n",
       "      <td>7.090</td>\n",
       "      <td>5.54875</td>\n",
       "      <td>5.892</td>\n",
       "      <td>4.77375</td>\n",
       "      <td>6.8775</td>\n",
       "    </tr>\n",
       "  </tbody>\n",
       "</table>\n",
       "</div>"
      ],
      "text/plain": [
       "Crop    Maize   Potato   Rice  Soybean   Wheat\n",
       "Season                                        \n",
       "Fall    6.490  6.12000  3.795  6.09875  7.3625\n",
       "Spring  5.330  7.57000  7.085  5.69500  4.7450\n",
       "Summer  7.806  5.85000  7.960  6.94750  5.4480\n",
       "Winter  7.090  5.54875  5.892  4.77375  6.8775"
      ]
     },
     "execution_count": 234,
     "metadata": {},
     "output_type": "execute_result"
    }
   ],
   "source": [
    "# Seasonal trends\n",
    "seasons_yield = production.groupby(['Season','Crop'])[\"Yield_per_Hectare\"].mean().unstack()\n",
    "seasons_yield"
   ]
  },
  {
   "cell_type": "markdown",
   "id": "dff54389-b301-4ad0-ba7e-e3be64b0badc",
   "metadata": {},
   "source": [
    "#### Visualization"
   ]
  },
  {
   "cell_type": "code",
   "execution_count": 278,
   "id": "f655daaa-f7f8-4f44-9f03-5be0b9e90723",
   "metadata": {},
   "outputs": [
    {
     "data": {
      "image/png": "[encoded data removed]",
      "text/plain": [
       "<Figure size 800x500 with 1 Axes>"
      ]
     },
     "metadata": {},
     "output_type": "display_data"
    }
   ],
   "source": [
    "# Plotting Bar chart of average yield per crop\n",
    "top_crops.plot(kind=\"bar\", figsize=(8, 5),colormap=\"Set2\")\n",
    "plt.ylabel(\"Yield (tons per hectare)\",labelpad=10)\n",
    "plt.xlabel(\"Crop\",labelpad=10)\n",
    "plt.title(\"Average Yield per Crop\",y=1.02)\n",
    "plt.show()"
   ]
  },
  {
   "cell_type": "code",
   "execution_count": 258,
   "id": "b41f1658-36df-4b6c-8ea3-86d44b8bb3bb",
   "metadata": {},
   "outputs": [
    {
     "data": {
      "image/png": "[encoded data removed]",
      "text/plain": [
       "<Figure size 800x500 with 1 Axes>"
      ]
     },
     "metadata": {},
     "output_type": "display_data"
    }
   ],
   "source": [
    "# Plotting Line chart of Monthly sales\n",
    "#This line plot shows the total sales volume for each month, making it easy to spot any seasonal patterns in sales\n",
    "monthly_sales.plot(kind=\"line\", figsize=(8, 5),marker=\"o\")\n",
    "plt.ylabel(\"Sales Volume (tons)\",labelpad=10)\n",
    "plt.xlabel(\"Month\",labelpad=10)\n",
    "plt.title(\"Monthly Sales Volume\",y=1.02)\n",
    "plt.grid(True)\n",
    "plt.xticks(range(1,13))\n",
    "plt.show()"
   ]
  },
  {
   "cell_type": "code",
   "execution_count": 294,
   "id": "df53ee04-87a7-4712-b469-26befe00b70e",
   "metadata": {},
   "outputs": [
    {
     "data": {
      "image/png": "[encoded data removed]",
      "text/plain": [
       "<Figure size 800x500 with 1 Axes>"
      ]
     },
     "metadata": {},
     "output_type": "display_data"
    }
   ],
   "source": [
    "# Plotting Seasonal Yield Trends\n",
    "seasons_yield.plot(kind='bar',figsize=(8,5),colormap=\"Set2\")\n",
    "plt.xlabel('Crop',labelpad=10)\n",
    "plt.ylabel('Yield(Tonnes per Hectares)',labelpad=10)\n",
    "plt.title('Seasonal Yield per Hectares',y=1.02)\n",
    "plt.xticks(rotation=45)\n",
    "plt.tight_layout()\n",
    "plt.show()"
   ]
  },
  {
   "cell_type": "markdown",
   "id": "dff79d30-1f20-4d43-9596-87553bf76130",
   "metadata": {},
   "source": [
    "## Insights and Report\n",
    "##### The crop with the highest yield was Maize and Soybean the lowest \n",
    "##### The months with the highest sales volumes were months 6 and 4"
   ]
  },
  {
   "cell_type": "code",
   "execution_count": null,
   "id": "ee62f9fd-9f07-4451-b0e0-f451acad9e81",
   "metadata": {},
   "outputs": [],
   "source": [
    "\n"
   ]
  },
  {
   "cell_type": "code",
   "execution_count": null,
   "id": "775878d3-a5be-4393-8385-e1bebf37180b",
   "metadata": {},
   "outputs": [],
   "source": []
  },
  {
   "cell_type": "code",
   "execution_count": null,
   "id": "2c7326ba-0b44-47a7-a936-7b8bdbe541a1",
   "metadata": {},
   "outputs": [],
   "source": []
  },
  {
   "cell_type": "code",
   "execution_count": null,
   "id": "59782791-3973-4b24-879b-5bdfa002ee5b",
   "metadata": {},
   "outputs": [],
   "source": []
  }
 ],
 "metadata": {
  "kernelspec": {
   "display_name": "Python 3 (ipykernel)",
   "language": "python",
   "name": "python3"
  },
  "language_info": {
   "codemirror_mode": {
    "name": "ipython",
    "version": 3
   },
   "file_extension": ".py",
   "mimetype": "text/x-python",
   "name": "python",
   "nbconvert_exporter": "python",
   "pygments_lexer": "ipython3",
   "version": "3.12.4"
  }
 },
 "nbformat": 4,
 "nbformat_minor": 5
}
